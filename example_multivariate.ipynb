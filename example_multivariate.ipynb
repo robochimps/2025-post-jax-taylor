{
 "cells": [
  {
   "cell_type": "markdown",
   "id": "cd8956ff",
   "metadata": {},
   "source": [
    "# Example of multivariate derivatives via univariate automatic differentiation\n",
    "\n",
    "The general formula is given by Eqs. (13) and (17) in the paper of Andreas Griewank, Jean Utke, and Andrea Walther, \"Evaluating higher derivative tensors by forward propagation of univariate Taylor series\", *Math. Comp.* **69** (2000), 1117-1130, [https://doi.org/10.1090/S0025-5718-00-01120-0](https://doi.org/10.1090/S0025-5718-00-01120-0).\n",
    "\n",
    "According to these formulas, the partial derivative of a function $f(x_1,x_2,...,x_n)$ of total order $d$ with respect to $n$ variables $x_1,x_2,...,x_n$ can be computed as:\n",
    "\n",
    "$$\n",
    "\\frac{\\partial^{|\\mathbf{i}|} f}{\\partial x_1^{i_1}\\partial x_2^{i_2}...\\partial x_n^{i_n}} = \\sum_{|\\mathbf{c}|=d}\\frac{\\partial^d f}{\\partial t^d}\\Big|_{\\mathbf{c}}\\cdot g_{\\mathbf{i},\\mathbf{c}}.\n",
    "$$\n",
    "\n",
    "Here, $\\frac{\\partial^d f}{\\partial t^d}\\Big|_{\\mathbf{c}}$ is the directional derivative of $f(x_1+tc_1,x_2+tc_2,...,x_n+tc_n)$ evaluated at $t=0$, where the direction vectors $|\\mathbf{c}|=d$ span all possible combinations of $c_i=0..d$ ($i=1..n$) constrained by $\\sum_i c_i=d$.\n",
    "For example, for $n=3$ and $d=2$, the direction vectors $\\mathbf{c}$ include $(2,0,0)$, $(0,2,0)$, $(0,0,2)$, $(1,1,0)$, $(1,0,1)$, $(0,1,1)$.\n",
    "\n",
    "The coefficients $g_{\\mathbf{i},\\mathbf{c}}$ depend on the multi-index $\\mathbf{i}$ of the partial derivative and the direction vector $\\mathbf{c}$, computed using:\n",
    "\n",
    "$$\n",
    "g_{\\mathbf{i},\\mathbf{c}} = \\sum_{0<\\mathbf{k}\\leq\\mathbf{i}}(-1)^{|\\mathbf{i}-\\mathbf{k}|}{\\mathbf{i}\\choose\\mathbf{k}}{d\\mathbf{k}/|\\mathbf{k}|\\choose\\mathbf{c}}\\left(|\\mathbf{k}|/d\\right)^{|\\mathbf{i}|}\n",
    "$$"
   ]
  },
  {
   "cell_type": "code",
   "execution_count": 1,
   "id": "0d7571f3",
   "metadata": {},
   "outputs": [],
   "source": [
    "import itertools\n",
    "from typing import List\n",
    "\n",
    "import jax\n",
    "import numpy as np\n",
    "from jax import numpy as jnp\n",
    "from jax.experimental import jet\n",
    "from scipy.special import binom, comb, factorial\n",
    "\n",
    "jax.config.update(\"jax_enable_x64\", True)"
   ]
  },
  {
   "cell_type": "markdown",
   "id": "2db5ffdf",
   "metadata": {},
   "source": [
    "Define the target function $f$ and the total derivative order"
   ]
  },
  {
   "cell_type": "code",
   "execution_count": 2,
   "id": "0a862d5d",
   "metadata": {},
   "outputs": [],
   "source": [
    "# test function\n",
    "func = lambda x: jnp.cos(x[0]) * jnp.sin(x[1]) * x[1]\n",
    "\n",
    "# expansion point\n",
    "x0 = np.array((0.3, 0.3), dtype=np.float64)\n",
    "\n",
    "d = 8  # derivative order"
   ]
  },
  {
   "cell_type": "markdown",
   "id": "ec586ee7",
   "metadata": {},
   "source": [
    "Generate a set of direction vectors $|\\mathbf{c}|=d$."
   ]
  },
  {
   "cell_type": "code",
   "execution_count": 3,
   "id": "84ef158a",
   "metadata": {},
   "outputs": [
    {
     "name": "stdout",
     "output_type": "stream",
     "text": [
      "derivative order: 8\n",
      "directions:\n",
      " [[0 8]\n",
      " [1 7]\n",
      " [2 6]\n",
      " [3 5]\n",
      " [4 4]\n",
      " [5 3]\n",
      " [6 2]\n",
      " [7 1]\n",
      " [8 0]]\n"
     ]
    }
   ],
   "source": [
    "c = np.array(\n",
    "    [\n",
    "        elem\n",
    "        for elem in itertools.product(*[range(0, d + 1) for _ in range(len(x0))])\n",
    "        if np.sum(elem) == d\n",
    "    ]\n",
    ")\n",
    "\n",
    "print(\"derivative order:\", d)\n",
    "print(\"directions:\\n\", c)"
   ]
  },
  {
   "cell_type": "markdown",
   "id": "79e13bb7",
   "metadata": {},
   "source": [
    "Compute univariate derivatives $\\frac{d^df}{dt^d}\\big|_{\\mathbf{c}}$ for different directions $|\\mathbf{c}|=d$."
   ]
  },
  {
   "cell_type": "code",
   "execution_count": 4,
   "id": "c23ff7f3",
   "metadata": {},
   "outputs": [
    {
     "name": "stdout",
     "output_type": "stream",
     "text": [
      "direction: [0 8], d^d f/dt^d: -121075230.22449228\n",
      "direction: [1 7], d^d f/dt^d: -54881157.282575674\n",
      "direction: [2 6], d^d f/dt^d: -40512748.34065934\n",
      "direction: [3 5], d^d f/dt^d: -33198675.398743037\n",
      "direction: [4 4], d^d f/dt^d: -26272698.456826724\n",
      "direction: [5 3], d^d f/dt^d: -19347745.51491043\n",
      "direction: [6 2], d^d f/dt^d: -12294792.572994135\n",
      "direction: [7 1], d^d f/dt^d: -4382703.631077848\n",
      "direction: [8 0], d^d f/dt^d: 1420969.3108384246\n"
     ]
    }
   ],
   "source": [
    "df_dt = np.zeros(len(c), dtype=np.float64)\n",
    "\n",
    "for i in range(len(c)):\n",
    "    # jet.jet returns a tuple: f(x0), (df/dt, d^2 f/dt^2, ..., d^d f/dt^d)\n",
    "    # we are interested only in the last element, d^d f/dt^d\n",
    "    _, (*_, df_dt[i]) = jet.jet(\n",
    "        func,\n",
    "        (x0,),\n",
    "        ((jnp.asarray(c, dtype=jnp.float64)[i],) + (np.zeros(len(x0)),) * (d - 1),),\n",
    "    )\n",
    "    print(f\"direction: {c[i]}, d^d f/dt^d: {df_dt[i]}\")"
   ]
  },
  {
   "cell_type": "markdown",
   "id": "fe355a46",
   "metadata": {},
   "source": [
    "Define function for computing $g_{\\mathbf{i},\\mathbf{c}}$"
   ]
  },
  {
   "cell_type": "code",
   "execution_count": 5,
   "id": "bc6b3403",
   "metadata": {},
   "outputs": [],
   "source": [
    "def g_ic(i: List[int], c: List[int], d: int):\n",
    "    sum_i = sum(i)\n",
    "    k_ind = [elem for elem in itertools.product(*[range(0, k + 1) for k in i])]\n",
    "    fac1 = (-1) ** np.sum(np.array(i)[None, :] - np.array(k_ind), axis=-1)\n",
    "    if d == 0:\n",
    "        fac2 = np.ones_like(len(k_ind))\n",
    "    else:\n",
    "        fac2 = (np.sum(k_ind, axis=-1) / d) ** sum_i\n",
    "    x = [d / sum(k) * np.array(k) if sum(k) > 0 else np.array(k) for k in k_ind]\n",
    "    c = np.sum(\n",
    "        np.array([np.prod(comb(i, k) * binom(x_, c)) for k, x_ in zip(k_ind, x)])\n",
    "        * fac1\n",
    "        * fac2\n",
    "    )\n",
    "    return c"
   ]
  },
  {
   "cell_type": "markdown",
   "id": "e5968eaf",
   "metadata": {},
   "source": [
    "Compute partial derivatives $\\frac{\\partial^{|\\mathbf{i}|} f}{\\partial x_1^{i_1}\\partial x_2^{i_2}...\\partial x_n^{i_n}}$ for all $|\\mathbf{i}|=d$"
   ]
  },
  {
   "cell_type": "code",
   "execution_count": 6,
   "id": "2f6985ae",
   "metadata": {},
   "outputs": [
    {
     "name": "stdout",
     "output_type": "stream",
     "text": [
      "(0, 8) -7.2166460886295\n",
      "(1, 7) 0.6960217188304038\n",
      "(2, 6) -5.391310473716733\n",
      "(3, 5) 0.5213573337380131\n",
      "(4, 4) -3.5659748588064093\n",
      "(5, 3) 0.34669294864648864\n",
      "(6, 2) -1.740639243900105\n",
      "(7, 1) 0.17202856355383234\n",
      "(8, 0) 0.08469637100925592\n"
     ]
    }
   ],
   "source": [
    "i_list = [\n",
    "    elem\n",
    "    for elem in itertools.product(*[range(0, d + 1) for _ in range(len(x0))])\n",
    "    if np.sum(elem) == d\n",
    "]\n",
    "\n",
    "fac_d = factorial(d)\n",
    "for i in i_list:\n",
    "    g = np.array([g_ic(i, c_, d) for c_ in c]) # g_{ic} coefficients\n",
    "    deriv_i = g @ df_dt / fac_d\n",
    "    print(i, deriv_i)"
   ]
  },
  {
   "cell_type": "markdown",
   "id": "f35dadd6",
   "metadata": {},
   "source": [
    "For comparison, we can also compute partial derivatives by nesting `jacfwd` calls"
   ]
  },
  {
   "cell_type": "code",
   "execution_count": 7,
   "id": "61082d66",
   "metadata": {},
   "outputs": [
    {
     "name": "stdout",
     "output_type": "stream",
     "text": [
      "(0, 8) -7.216646088629457\n",
      "(1, 7) 0.6960217188253812\n",
      "(2, 6) -5.391310473719779\n",
      "(3, 5) 0.5213573337350594\n",
      "(4, 4) -3.565974858810101\n",
      "(5, 3) 0.3466929486447378\n",
      "(6, 2) -1.7406392439004228\n",
      "(7, 1) 0.17202856355441612\n",
      "(8, 0) 0.08469637100925528\n"
     ]
    }
   ],
   "source": [
    "\n",
    "def jacfwd(x0, ind):\n",
    "    f = func\n",
    "    for _ in range(sum(ind)):\n",
    "        f = jax.jacfwd(f)\n",
    "    i = sum([(i,) * o for i, o in enumerate(ind)], start=tuple())\n",
    "    return f(x0)[i]\n",
    "\n",
    "for i in i_list:\n",
    "    deriv_i = jacfwd(x0, i)\n",
    "    print(i, deriv_i)"
   ]
  }
 ],
 "metadata": {
  "kernelspec": {
   "display_name": "myenv",
   "language": "python",
   "name": "python3"
  },
  "language_info": {
   "codemirror_mode": {
    "name": "ipython",
    "version": 3
   },
   "file_extension": ".py",
   "mimetype": "text/x-python",
   "name": "python",
   "nbconvert_exporter": "python",
   "pygments_lexer": "ipython3",
   "version": "3.13.0"
  }
 },
 "nbformat": 4,
 "nbformat_minor": 5
}
